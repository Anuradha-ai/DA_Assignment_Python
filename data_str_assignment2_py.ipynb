{
  "nbformat": 4,
  "nbformat_minor": 0,
  "metadata": {
    "colab": {
      "provenance": [],
      "toc_visible": true,
      "authorship_tag": "ABX9TyMrH5+6RCRWFEOiSospVEwZ",
      "include_colab_link": true
    },
    "kernelspec": {
      "name": "python3",
      "display_name": "Python 3"
    },
    "language_info": {
      "name": "python"
    }
  },
  "cells": [
    {
      "cell_type": "markdown",
      "metadata": {
        "id": "view-in-github",
        "colab_type": "text"
      },
      "source": [
        "<a href=\"https://colab.research.google.com/github/Anuradha-ai/Anuradha-ai/blob/main/data_str_assignment2_py.ipynb\" target=\"_parent\"><img src=\"https://colab.research.google.com/assets/colab-badge.svg\" alt=\"Open In Colab\"/></a>"
      ]
    },
    {
      "cell_type": "markdown",
      "source": [
        "# Data Structure Assignment 2"
      ],
      "metadata": {
        "id": "piULKG4YsgME"
      }
    },
    {
      "cell_type": "markdown",
      "source": [
        "### 1). write a code to reverse a string.\n",
        "\n",
        "\n"
      ],
      "metadata": {
        "id": "M7g19c3AxLSv"
      }
    },
    {
      "cell_type": "code",
      "source": [
        "my_string = \"Hello World\"\n",
        "reversed_string = my_string[::-1]\n",
        "print(reversed_string)"
      ],
      "metadata": {
        "colab": {
          "base_uri": "https://localhost:8080/"
        },
        "id": "EoaLCTtqxmiX",
        "outputId": "cab64f7d-fcad-405b-a004-945c8d367b96"
      },
      "execution_count": null,
      "outputs": [
        {
          "output_type": "stream",
          "name": "stdout",
          "text": [
            "dlroW olleH\n"
          ]
        }
      ]
    },
    {
      "cell_type": "markdown",
      "source": [
        "This code will reverse the string \"hello\"."
      ],
      "metadata": {
        "id": "Efb4VG58yTNM"
      }
    },
    {
      "cell_type": "markdown",
      "source": [
        "## 2). write a code to count the number of vowels in a string."
      ],
      "metadata": {
        "id": "8P9MquYuyYeu"
      }
    },
    {
      "cell_type": "code",
      "source": [
        "string = \"hello\"\n",
        "vowels = \"aeiou\"\n",
        "count = sum(string.count(vowel) for vowel in vowels)\n",
        "print(count)"
      ],
      "metadata": {
        "colab": {
          "base_uri": "https://localhost:8080/"
        },
        "id": "OKSGkEIGyIpx",
        "outputId": "38525085-c5a5-4b14-9cb6-785605e09008"
      },
      "execution_count": null,
      "outputs": [
        {
          "output_type": "stream",
          "name": "stdout",
          "text": [
            "2\n"
          ]
        }
      ]
    },
    {
      "cell_type": "markdown",
      "source": [
        "This code iterates through each vowel and counts the number of times they appear in the string \"hello\". The sum() function adds up the counts to give the total number of vowels."
      ],
      "metadata": {
        "id": "z7MFE7WmzFBV"
      }
    },
    {
      "cell_type": "markdown",
      "source": [
        "## 3). Write a code to check if a given string is a palinadrome or not.\n",
        "\n",
        "> Add blockquote\n",
        "\n"
      ],
      "metadata": {
        "id": "0Zmc1riIzLS1"
      }
    },
    {
      "cell_type": "code",
      "source": [
        "my_string = \"madam\"\n",
        "\n",
        "# make it suitable for caseless comparison\n",
        "my_string = my_string.casefold()\n",
        "\n",
        "# check if the string is equal to its reverse\n",
        "if my_string == my_string[::-1]:\n",
        "  print(\"The string is a palindrome\")\n",
        "else:\n",
        "  print(\"The string is not a palindrome\")\n"
      ],
      "metadata": {
        "colab": {
          "base_uri": "https://localhost:8080/"
        },
        "id": "uTfpDQ-6z7nb",
        "outputId": "f6345627-6a81-49ab-dac2-c53088960967"
      },
      "execution_count": null,
      "outputs": [
        {
          "output_type": "stream",
          "name": "stdout",
          "text": [
            "The string is a palindrome\n"
          ]
        }
      ]
    },
    {
      "cell_type": "markdown",
      "source": [
        "This code checks if the string \"madam\" is a palindrome.\n",
        "\n",
        "First, it converts the string to lowercase to make the comparison case-insensitive.\n",
        "\n",
        "Then, it compares the string to its reversed version using slicing.\n",
        "\n",
        "If they are equal, it prints \"The string is a palindrome\". Otherwise, it prints \"The string is not a palindrome."
      ],
      "metadata": {
        "id": "NkEAV14Mz8qs"
      }
    },
    {
      "cell_type": "markdown",
      "source": [
        "## 4). Write a code to check if two given strings are anagrams of each other."
      ],
      "metadata": {
        "id": "DH5XBuzZ0A7-"
      }
    },
    {
      "cell_type": "code",
      "source": [
        "# convert both the strings into lowercase\n",
        "str1 = \"Race\"\n",
        "str2 = \"Care\"\n",
        "str1 = str1.lower()\n",
        "str2 = str2.lower()\n",
        "# check if length is same\n",
        "if(len(str1) == len(str2)):\n",
        "    # sort the strings\n",
        "    sorted_str1 = sorted(str1)\n",
        "    sorted_str2 = sorted(str2)\n"
      ],
      "metadata": {
        "id": "Xwl6vLUW1GAT"
      },
      "execution_count": null,
      "outputs": []
    },
    {
      "cell_type": "markdown",
      "source": [
        "## 5). Write a code to find all accurrences of a given substring within another string."
      ],
      "metadata": {
        "id": "e85bDSYv1hAj"
      }
    },
    {
      "cell_type": "code",
      "source": [
        "import re\n",
        "\n",
        "string = \"This is a test string.\"\n",
        "substring = \"is\"\n",
        "\n",
        "matches = re.findall(substring, string)\n",
        "print(matches)"
      ],
      "metadata": {
        "colab": {
          "base_uri": "https://localhost:8080/"
        },
        "id": "3ulYw2z71ZaD",
        "outputId": "9e3cdda0-c1c9-4101-eecf-ccf8b6599964"
      },
      "execution_count": null,
      "outputs": [
        {
          "output_type": "stream",
          "name": "stdout",
          "text": [
            "['is', 'is']\n"
          ]
        }
      ]
    },
    {
      "cell_type": "markdown",
      "source": [
        "This code uses the re.findall() method to find all occurrences of the substring \"is\" in the string \"This is a test string.\".\n",
        "\n",
        "The re.findall() method returns a list of all the matches found.\n",
        "\n",
        "Execute the code yourself to see the output.\n",
        "\n",
        "This might be slightly inaccurate, but try the following:\n",
        "\n",
        "To use this code, you can paste it into a code cell in your Google Colab notebook. You can then run the code cell to see the output. The output will be a list of all the matches found."
      ],
      "metadata": {
        "id": "kihLS8zR26Vx"
      }
    },
    {
      "cell_type": "markdown",
      "source": [
        "## 6). Write a code to perform basic string comparession using a counts of repeated characters."
      ],
      "metadata": {
        "id": "3WyU6eq72Nky"
      }
    },
    {
      "cell_type": "code",
      "source": [
        "def compress(string):\n",
        "  res = \"\"\n",
        "\n",
        "  count = 1\n",
        "  # Add in first character\n",
        "  res += string"
      ],
      "metadata": {
        "id": "HB_ZlAoj3JEC"
      },
      "execution_count": null,
      "outputs": []
    },
    {
      "cell_type": "markdown",
      "source": [
        "## 7). Write a code to determine if a string has all unique characters."
      ],
      "metadata": {
        "id": "P0hnSmLs3VGp"
      }
    },
    {
      "cell_type": "code",
      "source": [
        "def is_unique(string):\n",
        "  # Assuming character set is ASCII (128 characters)\n",
        "  if len(string) > 128:\n",
        "    return False\n",
        "\n",
        "  char_set = [False] * 128\n",
        "  for char in string:\n",
        "    val = ord(char)\n",
        "    if char_set[val]:\n",
        "      # Char already found in string\n",
        "      return False\n",
        "    char_set[val] = True\n",
        "\n",
        "  return True"
      ],
      "metadata": {
        "id": "gqQG8R6N4QVE"
      },
      "execution_count": null,
      "outputs": []
    },
    {
      "cell_type": "markdown",
      "source": [
        "This code checks if a string has all unique characters.\n",
        "\n",
        "First, it checks if the length of the string is greater than 128 (the number of ASCII characters). If it is, then the string cannot have all unique characters because there are only 128 possible characters.\n",
        "\n",
        "If the length of the string is less than or equal to 128, then the code creates a list of 128 booleans, all initialized to False.\n",
        "\n",
        "The code then iterates over the characters in the string. For each character, it converts the character to its ASCII value using the ord() function."
      ],
      "metadata": {
        "id": "H5ZRzUOA4Tqk"
      }
    },
    {
      "cell_type": "markdown",
      "source": [
        "## 8). Write a code to convert a given string to uppercase or lowercase."
      ],
      "metadata": {
        "id": "AIzoMGcR4Vmn"
      }
    },
    {
      "cell_type": "code",
      "source": [
        "# convert to uppercase\n",
        "string = \"Ainee\"\n",
        "uppercase_string = string.upper()\n",
        "\n",
        "# convert to lowercase\n",
        "lowercase_string = string.lower()"
      ],
      "metadata": {
        "id": "e6M0cuR748mw"
      },
      "execution_count": null,
      "outputs": []
    },
    {
      "cell_type": "code",
      "source": [
        "string = \"Ainee\"\n",
        "string.upper()"
      ],
      "metadata": {
        "colab": {
          "base_uri": "https://localhost:8080/",
          "height": 35
        },
        "id": "HZHRY28c5AKl",
        "outputId": "91c8d386-81e1-4708-dc1a-2f3b54562405"
      },
      "execution_count": null,
      "outputs": [
        {
          "output_type": "execute_result",
          "data": {
            "text/plain": [
              "'AINEE'"
            ],
            "application/vnd.google.colaboratory.intrinsic+json": {
              "type": "string"
            }
          },
          "metadata": {},
          "execution_count": 10
        }
      ]
    },
    {
      "cell_type": "code",
      "source": [
        "string.lower()"
      ],
      "metadata": {
        "colab": {
          "base_uri": "https://localhost:8080/",
          "height": 35
        },
        "id": "x0IwDseJ5Th_",
        "outputId": "9a8476c0-73d3-4f73-c615-a124592f0080"
      },
      "execution_count": null,
      "outputs": [
        {
          "output_type": "execute_result",
          "data": {
            "text/plain": [
              "'ainee'"
            ],
            "application/vnd.google.colaboratory.intrinsic+json": {
              "type": "string"
            }
          },
          "metadata": {},
          "execution_count": 11
        }
      ]
    },
    {
      "cell_type": "markdown",
      "source": [
        "This code first defines a string \"hello\".\n",
        "\n",
        "Then converts the string to uppercase using the upper() method and assigns it to the variable uppercase_string.\n",
        "\n",
        "After that, it converts the string to lowercase using the lower() method and assigns it to the variable lowercase_string."
      ],
      "metadata": {
        "id": "kG5A0gdN5ePG"
      }
    },
    {
      "cell_type": "markdown",
      "source": [
        "## 9). Write a code to count a number of words in a string."
      ],
      "metadata": {
        "id": "aRkJvsZn5ran"
      }
    },
    {
      "cell_type": "code",
      "source": [
        "string = \"This is a test string\"\n",
        "words = string.split()\n",
        "num_words = len(words)\n",
        "print(num_words)"
      ],
      "metadata": {
        "colab": {
          "base_uri": "https://localhost:8080/"
        },
        "id": "0NdWw1yQ5ZsM",
        "outputId": "676a31e8-df08-47e7-c8aa-34f8f95748f1"
      },
      "execution_count": null,
      "outputs": [
        {
          "output_type": "stream",
          "name": "stdout",
          "text": [
            "5\n"
          ]
        }
      ]
    },
    {
      "cell_type": "markdown",
      "source": [
        "This code first defines a string. Then, it splits the string into a list of words using the split() method. Finally, it counts the number of words in the list using the len() function.\n",
        "\n"
      ],
      "metadata": {
        "id": "uRC827gw6yuW"
      }
    },
    {
      "cell_type": "markdown",
      "source": [
        "## 10). Write a code to concatenate two strings without using + operator."
      ],
      "metadata": {
        "id": "q-8ihdyI7m5b"
      }
    },
    {
      "cell_type": "code",
      "source": [
        "str1 = \"Pw\"\n",
        "str2 = \" skills\"\n",
        "\n",
        "str3 = str1 + str2\n",
        "print(str3)\n",
        "\n",
        "str4 = \"Pw\" \" skills\"\n",
        "print(str4)"
      ],
      "metadata": {
        "colab": {
          "base_uri": "https://localhost:8080/"
        },
        "id": "XSDI3Ne98HxL",
        "outputId": "a241fdba-25de-473d-d0ca-e9348900ec67"
      },
      "execution_count": null,
      "outputs": [
        {
          "output_type": "stream",
          "name": "stdout",
          "text": [
            "Pw skills\n",
            "Pw skills\n"
          ]
        }
      ]
    },
    {
      "cell_type": "markdown",
      "source": [
        "\n",
        "\n",
        "The first way is to simply place the two strings next to each other. This will create a new string that is the concatenation of the two original strings.\n",
        "\n",
        "The second way is to use the join() method. This method takes a list of strings as an argument and returns a new string that is the concatenation of all the strings in the list."
      ],
      "metadata": {
        "id": "Jp1bjAB_8fz4"
      }
    },
    {
      "cell_type": "markdown",
      "source": [
        "## 11). Write a code to remove all occurrences of a specific element from a list."
      ],
      "metadata": {
        "id": "rNzmspqD8qYK"
      }
    },
    {
      "cell_type": "code",
      "source": [
        "my_list = [1, 2, 3, 2, 4, 2]\n",
        "element_to_remove = 2\n",
        "\n",
        "while element_to_remove in my_list:\n",
        "    my_list.remove(element_to_remove)\n",
        "\n",
        "print(my_list)"
      ],
      "metadata": {
        "colab": {
          "base_uri": "https://localhost:8080/"
        },
        "id": "IoGcOEBTAytO",
        "outputId": "caf1df57-252a-4bc2-8063-a5b454a31f6e"
      },
      "execution_count": null,
      "outputs": [
        {
          "output_type": "stream",
          "name": "stdout",
          "text": [
            "[1, 3, 4]\n"
          ]
        }
      ]
    },
    {
      "cell_type": "code",
      "source": [
        "my_list = [1, 2, 3, 2, 4, 2]\n",
        "my_list.remove(2)\n",
        "print(my_list)"
      ],
      "metadata": {
        "colab": {
          "base_uri": "https://localhost:8080/"
        },
        "id": "B3sfjmPwA4P4",
        "outputId": "9b379017-c392-4f4e-a811-40555f579d6f"
      },
      "execution_count": null,
      "outputs": [
        {
          "output_type": "stream",
          "name": "stdout",
          "text": [
            "[1, 3, 2, 4, 2]\n"
          ]
        }
      ]
    },
    {
      "cell_type": "markdown",
      "source": [
        "This code removes all occurrences of the element 2 from the list my_list. It iterates through the list using a while loop and removes the element using the remove() method as long as the element exists in the list."
      ],
      "metadata": {
        "id": "Cq4-8jyaBXqj"
      }
    },
    {
      "cell_type": "markdown",
      "source": [
        "## 12). Implement a code to find the second largest number in a given list of integers."
      ],
      "metadata": {
        "id": "HktnE6KzBeI0"
      }
    },
    {
      "cell_type": "code",
      "source": [
        "def find_second_largest(numbers):\n",
        "  if len(numbers) < 2:\n",
        "    return None\n",
        "\n",
        "  largest = second_largest = float('-inf')\n",
        "  for number in numbers:\n",
        "    if number > largest:\n",
        "      second_largest = largest\n",
        "      largest = number\n",
        "    elif number > second_largest and number != largest:\n",
        "      second_largest = number\n",
        "\n",
        "  if second_largest == float('-inf'):\n",
        "    return None\n",
        "  else:\n",
        "    return second_largest\n",
        "\n",
        "numbers = [10, 5, 20, 8, 15]\n",
        "second_largest = find_second_largest(numbers)\n",
        "\n",
        "if second_largest is not None:\n",
        "  print(\"The second largest number is:\", second_largest)\n",
        "else:\n",
        "  print(\"There is no second largest number.\")"
      ],
      "metadata": {
        "id": "gENCs_VmCSWW"
      },
      "execution_count": null,
      "outputs": []
    },
    {
      "cell_type": "markdown",
      "source": [
        "This code defines a function find_second_largest that takes a list of numbers as an argument.\n",
        "\n",
        "It initializes two variables, largest and second_largest, to negative infinity.\n",
        "\n",
        "Then iterates over the list of numbers, updating largest and second_largest as needed.\n",
        "\n",
        "If the list has less than two elements or if all elements are the same, it returns None. Otherwise, it returns the value of second_largest.\n",
        "\n",
        "The code then calls the find_second_largest function with the list numbers and prints the result."
      ],
      "metadata": {
        "id": "Tep9_xwwCUYM"
      }
    },
    {
      "cell_type": "markdown",
      "source": [
        "## 13). Create a code to count the occurrences of each element in a list and return a dictionary with elements as a keys and their counts as values."
      ],
      "metadata": {
        "id": "w8q4eMhACZ1G"
      }
    },
    {
      "cell_type": "code",
      "source": [
        "my_list = [1, 2, 2, 3, 3, 3, 4, 4, 4, 4]\n",
        "count_dict = {}\n",
        "for element in my_list:\n",
        "  if element in count_dict:\n",
        "    count_dict[element] += 1\n",
        "  else:\n",
        "    count_dict[element] = 1\n",
        "print(count_dict)"
      ],
      "metadata": {
        "id": "TT4atGvrDH2O"
      },
      "execution_count": null,
      "outputs": []
    },
    {
      "cell_type": "markdown",
      "source": [
        "This code creates a dictionary named count_dict to store the counts of each element. It then iterates over each element in the list my_list. If an element is already in count_dict, its count is incremented. Otherwise, the element is added to count_dict with a count of 1."
      ],
      "metadata": {
        "id": "nO28Yd2hDKKB"
      }
    },
    {
      "cell_type": "markdown",
      "source": [
        "## 14). Write a code to reverse a list in-place without using any built-in reverse functions."
      ],
      "metadata": {
        "id": "TM7Fv_xbDLXK"
      }
    },
    {
      "cell_type": "code",
      "source": [
        "my_list = [1, 2, 3, 4, 5]\n",
        "\n",
        "left = 0\n",
        "right = len(my_list) - 1\n",
        "while left < right:\n",
        "    # Swap the elements at the left and right indices\n",
        "    my_list[left], my_list[right] = my_list[right], my_list[left]\n",
        "\n",
        "    # Move the left and right indices towards the center\n",
        "    left += 1\n",
        "    right -= 1\n",
        "\n",
        "print(my_list)"
      ],
      "metadata": {
        "id": "MR0dVxzGDpSG"
      },
      "execution_count": null,
      "outputs": []
    },
    {
      "cell_type": "markdown",
      "source": [
        "This code reverses a list in-place by iterating through the list using two pointers, left and right. In each iteration, the elements at the left and right indices are swapped, and the pointers are moved towards the center until they meet.\n",
        "\n",
        "Execute the code yourself to see the output."
      ],
      "metadata": {
        "id": "EDg4Wa_JDr7G"
      }
    },
    {
      "cell_type": "markdown",
      "source": [
        "## 15). Implement a code to find and remove duplicates from a list while preserving the original order of elements."
      ],
      "metadata": {
        "id": "jZF3_Q7lD026"
      }
    },
    {
      "cell_type": "code",
      "source": [
        "my_list = [1, 2, 2, 3, 4, 4, 5]\n",
        "unique_list = []\n",
        "for element in my_list:\n",
        "    if element not in unique_list:\n",
        "        unique_list.append(element)\n",
        "print(unique_list)"
      ],
      "metadata": {
        "id": "rFSjGCSgF9QT"
      },
      "execution_count": null,
      "outputs": []
    },
    {
      "cell_type": "markdown",
      "source": [
        "This code creates an empty list named unique_list to store the unique elements. It iterates over each element in my_list and appends it to unique_list only if the element is not already present in unique_list. This preserves the original order of elements while removing duplicates."
      ],
      "metadata": {
        "id": "yvnpZkmqF_lg"
      }
    },
    {
      "cell_type": "markdown",
      "source": [
        "## 16). Create a code to check if a given lise is sorted lists into a single sorted list."
      ],
      "metadata": {
        "id": "j-JYXbFHGA0Q"
      }
    },
    {
      "cell_type": "code",
      "source": [
        "def is_sorted(lst):\n",
        "  for i in range(len(lst) - 1):\n",
        "    if lst[i] > lst[i + 1]:\n",
        "      return False\n",
        "  return True\n",
        "\n",
        "my_list = [1, 2, 3, 4, 5]\n",
        "\n",
        "if is_sorted(my_list):\n",
        "  print(\"The list is sorted.\")\n",
        "else:\n",
        "  print(\"The list is not sorted.\")"
      ],
      "metadata": {
        "id": "WZcqXy8NGdCw"
      },
      "execution_count": null,
      "outputs": []
    },
    {
      "cell_type": "markdown",
      "source": [
        "This code defines a function is_sorted that iterates through the list, checking if each element is less than or equal to the next element. If it finds any element that is greater than the next element, it returns False, indicating that the list is not sorted. Otherwise, it returns True.\n",
        "\n",
        "The code then calls the is_sorted function with the list my_list and prints the result."
      ],
      "metadata": {
        "id": "MGeNQN4_Gfff"
      }
    },
    {
      "cell_type": "markdown",
      "source": [
        "## 17).Write a code to merge two sorted lists in a single sorted list."
      ],
      "metadata": {
        "id": "uMLstUn4GgY1"
      }
    },
    {
      "cell_type": "code",
      "source": [
        "list1 = [1, 3, 5]\n",
        "list2 = [2, 4, 6]\n",
        "\n",
        "merged_list = sorted(list1 + list2)\n",
        "\n",
        "print(merged_list)"
      ],
      "metadata": {
        "id": "VYS9J375GuTl"
      },
      "execution_count": null,
      "outputs": []
    },
    {
      "cell_type": "markdown",
      "source": [
        "This code first concatenates the two sorted lists list1 and list2 using the + operator. Then, it uses the built-in sorted() function to sort the concatenated list, resulting in a single sorted list. The final merged list is stored in the merged_list variable."
      ],
      "metadata": {
        "id": "yMu7jAH9Gw8P"
      }
    },
    {
      "cell_type": "markdown",
      "source": [
        "## 18). Implement a code to find the intersection of two given lists."
      ],
      "metadata": {
        "id": "RrudrgCDGxue"
      }
    },
    {
      "cell_type": "code",
      "source": [
        "list1 = [1, 2, 3, 4, 5]\n",
        "list2 = [4, 5,"
      ],
      "metadata": {
        "id": "VkhfbDD3HKTp"
      },
      "execution_count": null,
      "outputs": []
    },
    {
      "cell_type": "code",
      "source": [
        "list1 = [1, 2, 3, 4, 5]\n",
        "list2 = [4, 5, 6, 7, 8]"
      ],
      "metadata": {
        "id": "MVY8tzC6HSk-"
      },
      "execution_count": null,
      "outputs": []
    },
    {
      "cell_type": "markdown",
      "source": [
        "## 19). Create a code to find a union of two list without duplicates."
      ],
      "metadata": {
        "id": "yLQvAmA8HiLQ"
      }
    },
    {
      "cell_type": "code",
      "source": [
        "list1 = [1, 2, 3]\n",
        "list2 = [3, 4, 5]\n",
        "\n",
        "# Convert the lists to sets to remove duplicates\n",
        "set1 = set(list1)\n",
        "set2 = set(list2)\n",
        "\n",
        "# Use the union operator to combine the sets\n",
        "union_set = set1 | set2\n",
        "\n",
        "# Convert the set back to a list\n",
        "union_list = list(union_set)\n",
        "\n",
        "print(union_list)"
      ],
      "metadata": {
        "id": "3oFlyoFXHUN6"
      },
      "execution_count": null,
      "outputs": []
    },
    {
      "cell_type": "markdown",
      "source": [
        "This code first converts the input lists, list1 and list2, into sets (set1 and set2). This automatically removes any duplicates within each list. Then, it performs the union operation on these sets using the | operator, resulting in union_set. Finally, the union_set is converted back to a list called union_list, which contains all unique elements from both original lists."
      ],
      "metadata": {
        "id": "FTwIYuUmILlv"
      }
    },
    {
      "cell_type": "markdown",
      "source": [
        "## 20). Write a code to  shuffle a given list randomly without using any built-in shuffle functions."
      ],
      "metadata": {
        "id": "_lFiBfeHIMoH"
      }
    },
    {
      "cell_type": "code",
      "source": [
        "import random\n",
        "\n",
        "def shuffle_list(lst):\n",
        "  n = len(lst)\n",
        "  for i in range(n):\n",
        "    j = random.randint(0, n-1)\n",
        "    lst[i], lst[j] = lst[j], lst[i]\n",
        "  return lst\n",
        "\n",
        "my_list = [1, 2, 3, 4, 5]\n",
        "shuffled_list = shuffle_list(my_list)\n",
        "print(shuffled_list)"
      ],
      "metadata": {
        "id": "h3EHH_13Cv9y"
      },
      "execution_count": null,
      "outputs": []
    },
    {
      "cell_type": "markdown",
      "source": [
        "This code defines a function shuffle_list that takes a list as an argument.\n",
        "\n",
        "It iterates through the list using a for loop and swaps each element with a randomly chosen element using random.randint to generate random indices.\n",
        "\n",
        "This effectively shuffles the list randomly."
      ],
      "metadata": {
        "id": "aN5dGUpkCyi-"
      }
    },
    {
      "cell_type": "markdown",
      "source": [
        "## 21). write a code that takes two tuples as input and return a new tuple containing elements that are common to both input tuples."
      ],
      "metadata": {
        "id": "VdkKV0P_Czo9"
      }
    },
    {
      "cell_type": "code",
      "source": [
        "def common_elements(tuple1, tuple2):\n",
        "  return tuple(set(tuple1) & set(tuple2))\n",
        "\n",
        "tuple1 = (1, 2, 3, 4, 5)\n",
        "tuple2 = (4, 5, 6, 7, 8)\n",
        "common_tuple = common_elements(tuple1, tuple2)\n",
        "print(common_tuple)"
      ],
      "metadata": {
        "id": "bZfJN88EDh3S"
      },
      "execution_count": null,
      "outputs": []
    },
    {
      "cell_type": "markdown",
      "source": [
        "This code defines a function common_elements that takes two tuples as arguments. It converts each tuple to a set and uses the intersection operator & to find common elements.\n",
        "\n",
        "The result is converted back to a tuple and returned."
      ],
      "metadata": {
        "id": "cZhalauqDl7e"
      }
    },
    {
      "cell_type": "code",
      "source": [],
      "metadata": {
        "id": "h23hX0oIDuX4"
      },
      "execution_count": null,
      "outputs": []
    },
    {
      "cell_type": "markdown",
      "source": [
        "## 22). Create a code that prompts the user to enter two sets of integers separated by commas. then, print the intersection of these two sets."
      ],
      "metadata": {
        "id": "4w3oIAHVDm8s"
      }
    },
    {
      "cell_type": "code",
      "source": [
        "# Prompt the user to enter the first set of integers\n",
        "set1_str = input(\"Enter the first set of integers separated by commas: \")\n",
        "\n",
        "# Prompt the user to enter the second set of integers\n",
        "set2_str = input(\"Enter the second set of integers separated by commas: \")\n",
        "\n",
        "# Convert the strings into sets of integers\n",
        "set1 = set(map(int, set1_str.split(\",\")))\n",
        "set2 = set(map(int, set2_str.split(\",\")))\n",
        "\n",
        "# Calculate the intersection of the two sets\n",
        "intersection_set = set1 & set2\n",
        "\n",
        "# Print the intersection\n",
        "print(intersection_set)"
      ],
      "metadata": {
        "id": "K-W8q-xbEqOM"
      },
      "execution_count": null,
      "outputs": []
    },
    {
      "cell_type": "markdown",
      "source": [
        "This code first prompts the user to enter two sets of integers separated by commas. Then, it converts the input strings into sets of integers using split(\",\") to separate the integers and map(int, ...) to convert them to integers.\n",
        "\n",
        "Finally, it calculates the intersection of the two sets using the & operator and prints the result."
      ],
      "metadata": {
        "id": "8J49hRETEtjS"
      }
    },
    {
      "cell_type": "markdown",
      "source": [
        "## 23). Write a code to concatenate two tuples . the function should take two tuples as input and return a new tuple containing elements trom both input tuples."
      ],
      "metadata": {
        "id": "i9gjorfDEu--"
      }
    },
    {
      "cell_type": "code",
      "source": [
        "def concatenate_tuples(tuple1, tuple2):\n",
        "  return tuple1 + tuple2\n",
        "\n",
        "tuple1 = (1, 2, 3)\n",
        "tuple2 = (4, 5, 6)\n",
        "concatenated_tuple = concatenate_tuples(tuple1, tuple2)\n",
        "print(concatenated_tuple)"
      ],
      "metadata": {
        "id": "jpuliqW1Fae4"
      },
      "execution_count": null,
      "outputs": []
    },
    {
      "cell_type": "markdown",
      "source": [
        "This code defines a function concatenate_tuples that takes two tuples as arguments.\n",
        "\n",
        "It uses the + operator to concatenate the two tuples and returns the result.\n",
        "\n",
        "This is a simple and efficient way to combine two tuples in Python."
      ],
      "metadata": {
        "id": "jru4_KumFdCt"
      }
    },
    {
      "cell_type": "markdown",
      "source": [
        "## 24). Develop a code that prompts the user to input two set of string. Then, print the elements that are present in the first set vut not in the second set."
      ],
      "metadata": {
        "id": "DrsADPUNFeRP"
      }
    },
    {
      "cell_type": "code",
      "source": [
        "# Prompt user for the first set of strings\n",
        "set1_str = input(\"Enter the first set of strings separated by commas: \")\n",
        "\n",
        "# Prompt user for the second set of strings\n",
        "set2_str = input(\"Enter the second set of strings separated by commas: \")\n",
        "\n",
        "# Convert the strings to sets\n",
        "set1 = set(set1_str.split(\",\"))\n",
        "set2 = set(set2_str.split(\",\"))\n",
        "\n",
        "# Calculate the difference between the sets\n",
        "difference_set = set1 - set2"
      ],
      "metadata": {
        "id": "95baC-0sGAIl"
      },
      "execution_count": null,
      "outputs": []
    },
    {
      "cell_type": "markdown",
      "source": [
        "This code prompts the user to enter two sets of strings, converts the input strings to sets, and calculates the difference between the sets using the - operator. The result, which represents the elements present in the first set but not in the second, is then printed."
      ],
      "metadata": {
        "id": "ehvGVJJ0GCPW"
      }
    },
    {
      "cell_type": "markdown",
      "source": [
        "## 25). Create a code that takes a tuple and two integers as input. The function should return a new tuple containing elements from the original tuple within the specified range of indices."
      ],
      "metadata": {
        "id": "XycRMMsoGDKP"
      }
    },
    {
      "cell_type": "code",
      "source": [
        "def slice_tuple(input_tuple, start_index, end_index):\n",
        "  return input_tuple[start_index:end_index]\n",
        "\n",
        "my_tuple = (1, 2, 3, 4, 5)\n",
        "start_index = 1\n",
        "end_index = 4\n",
        "sliced_tuple = slice_tuple(my_tuple, start_index, end_index)\n",
        "print(sliced_tuple)"
      ],
      "metadata": {
        "id": "vTWM-eelGtI2"
      },
      "execution_count": null,
      "outputs": []
    },
    {
      "cell_type": "markdown",
      "source": [
        "This code defines a function named slice_tuple that takes a tuple and two integers (start and end indices) as input. It uses slicing to extract a portion of the tuple within the specified range and returns the result as a new tuple.\n",
        "\n",
        "This approach efficiently creates a new tuple containing elements from the original tuple based on the provided index range."
      ],
      "metadata": {
        "id": "Cq6VrD51Gvzz"
      }
    },
    {
      "cell_type": "markdown",
      "source": [
        "## 26). Write a code that prompt the user to input two set of characters. Then, print the union of these two sets."
      ],
      "metadata": {
        "id": "yjfwG_BIGw0m"
      }
    },
    {
      "cell_type": "code",
      "source": [
        "# Prompt the user to enter the first set of characters\n",
        "set1_str = input(\"Enter the first set of characters separated by commas: \")\n",
        "\n",
        "# Prompt the user to enter the second set of characters\n",
        "set2_str = input(\"Enter the second set of characters separated by commas: \")\n",
        "\n",
        "# Convert the strings into sets of characters\n",
        "set1 = set(set1_str.split(\",\"))\n",
        "set2 = set(set2_str.split(\",\"))\n",
        "\n",
        "# Calculate the union of the two sets\n",
        "union_set = set1 | set2\n",
        "\n",
        "# Print the union\n",
        "print(union_set)"
      ],
      "metadata": {
        "id": "a_F-cnzYHj4U"
      },
      "execution_count": null,
      "outputs": []
    },
    {
      "cell_type": "markdown",
      "source": [
        "This code will:\n",
        "\n",
        "Prompt the user for input: Ask the user to enter two sets of characters, separated by commas.\n",
        "Convert to sets: Transform the input strings into sets using split(\",\") to separate the characters.\n",
        "Find the union: Calculate the union of the two sets using the | operator.\n",
        "Print the result: Display the union set, which contains all unique characters from both input sets.\n"
      ],
      "metadata": {
        "id": "7cpo1pppHnuX"
      }
    },
    {
      "cell_type": "markdown",
      "source": [
        "## 27). Develop a code that takes a tuple of integers as input. The function should return the maximum and minimum values from the tuple using tuple unpacking."
      ],
      "metadata": {
        "id": "V6RYsBGcHo0P"
      }
    },
    {
      "cell_type": "code",
      "source": [
        "def find_max_min(numbers):\n",
        "  return max(numbers), min(numbers)\n",
        "\n",
        "numbers = (10, 5, 20, 8, 15)\n",
        "max_value, min_value = find_max_min(numbers)\n",
        "print(\"Maximum value:\", max_value)\n",
        "print(\"Minimum value:\", min_value)"
      ],
      "metadata": {
        "id": "FdZx6-iMITih"
      },
      "execution_count": null,
      "outputs": []
    },
    {
      "cell_type": "markdown",
      "source": [
        "This code defines a function find_max_min that takes a tuple of integers as input.\n",
        "\n",
        "It uses the built-in functions max() and min() to find the maximum and minimum values in the tuple.\n",
        "\n",
        "Tuple unpacking is used to assign these values to the variables max_value and min_value respectively.\n",
        "\n",
        "The function then returns both values."
      ],
      "metadata": {
        "id": "DgOpAtaxIVvw"
      }
    },
    {
      "cell_type": "markdown",
      "source": [
        "## 28). Create a code that defines two sets of integers. Then, print the union, intersection, and diffwerence of these two sets."
      ],
      "metadata": {
        "id": "agdVd3qEIXKm"
      }
    },
    {
      "cell_type": "code",
      "source": [
        "\n",
        "\n",
        "# Define the two sets of integers\n",
        "set1 = {1, 2, 3, 4, 5}\n",
        "set2 = {4, 5, 6, 7, 8}\n",
        "\n",
        "# Calculate the union of the sets\n",
        "union_set = set1 | set2\n",
        "\n",
        "# Calculate the intersection of the sets\n",
        "intersection_set = set1 & set2\n",
        "\n",
        "# Calculate the difference of the sets (set1 - set2)\n",
        "difference_set = set1 - set2\n",
        "\n",
        "# Print the results\n",
        "print(\"Union:\", union_set)\n",
        "print(\"Intersection:\", intersection_set)\n",
        "print(\"Difference:\", difference_set)"
      ],
      "metadata": {
        "id": "m6clXTP8JIg0"
      },
      "execution_count": null,
      "outputs": []
    },
    {
      "cell_type": "markdown",
      "source": [
        "This code defines two sets, set1 and set2, then calculates and prints their union, intersection, and difference using the respective set operators: |, &, and -. This demonstrates the basic set operations in Python, useful for finding combined elements, common elements, and elements unique to a specific set."
      ],
      "metadata": {
        "id": "xL93wcfDJNxx"
      }
    },
    {
      "cell_type": "markdown",
      "source": [
        "## 29). Write a code that takes a tuple and an element as input. the function should return the count of occurrences of the given element in tthe tuple ."
      ],
      "metadata": {
        "id": "O0YULiF6JOsZ"
      }
    },
    {
      "cell_type": "code",
      "source": [
        "def count_occurrences(input_tuple, element):\n",
        "  return input_tuple.count(element)\n",
        "\n",
        "my_tuple = (1, 2, 2, 3, 4, 2, 5)\n",
        "element = 2\n",
        "count = count_occurrences(my_tuple, element)\n",
        "print(\"Count of\", element, \"in the tuple:\", count)"
      ],
      "metadata": {
        "id": "JSGn110_JzF7"
      },
      "execution_count": null,
      "outputs": []
    },
    {
      "cell_type": "markdown",
      "source": [],
      "metadata": {
        "id": "uxAxA-PJJ2uO"
      }
    },
    {
      "cell_type": "code",
      "source": [
        "def count_occurrences(input_tuple, element):\n",
        "  return input_tuple.count(element)\n",
        "\n",
        "my_tuple = (1, 2, 2, 3, 4, 2, 5)\n",
        "element = 2\n",
        "count = count_occurrences(my_tuple, element)\n",
        "print(\"Count of\", element, \"in the tuple:\", count)"
      ],
      "metadata": {
        "id": "mWQuN_z0J2__"
      },
      "execution_count": null,
      "outputs": []
    },
    {
      "cell_type": "markdown",
      "source": [
        "## 30). Develop a code that prompts the user to input two sets of strings. Then,print the symmetric difference of these two sets."
      ],
      "metadata": {
        "id": "biSx2CUHJ3th"
      }
    },
    {
      "cell_type": "code",
      "source": [
        "# Prompt the user to enter the first set of strings\n",
        "set1_str = input(\"Enter the first set of strings separated by commas: \")\n",
        "\n",
        "# Prompt the user to enter the second set of strings\n",
        "set2_str = input(\"Enter the second set of strings separated by commas: \")\n",
        "\n",
        "# Convert the strings into sets of strings\n",
        "set1 = set(set1_str.split(\",\"))\n",
        "set2 = set(set2_str.split(\",\"))\n",
        "\n",
        "# Calculate the symmetric difference of the two sets\n",
        "symmetric_difference_set = set1 ^ set2\n",
        "\n",
        "# Print the symmetric difference\n",
        "print(symmetric_difference_set)"
      ],
      "metadata": {
        "id": "_BiP04R5LQe2"
      },
      "execution_count": null,
      "outputs": []
    },
    {
      "cell_type": "markdown",
      "source": [
        "This code first prompts the user to input two sets of strings separated by commas. Then, it converts these strings into sets. Finally, it calculates the symmetric difference of the two sets using the ^ operator and prints the result. This gives you the elements that are in either of the sets, but not in both."
      ],
      "metadata": {
        "id": "QLbRGeBQLUAX"
      }
    },
    {
      "cell_type": "markdown",
      "source": [
        "## 31). Write a code that takes a list of words as input and returns a dicdtonary where the keys are unique words and the value are the frequencies of those words in the input list."
      ],
      "metadata": {
        "id": "m_911rcTLU2_"
      }
    },
    {
      "cell_type": "code",
      "source": [
        "def word_frequencies(words):\n",
        "  frequency = {}\n",
        "  for word in words:\n",
        "    frequency[word] = frequency.get(word, 0) + 1\n",
        "  return frequency\n",
        "\n",
        "words = [\"apple\", \"banana\", \"apple\", \"cherry\", \"banana\", \"apple\"]\n",
        "word_counts = word_frequencies(words)\n",
        "print(word_counts)"
      ],
      "metadata": {
        "id": "B1onMnHUL7DM"
      },
      "execution_count": null,
      "outputs": []
    },
    {
      "cell_type": "markdown",
      "source": [
        "This code defines a function word_frequencies that takes a list of words as input.\n",
        "\n",
        "It initializes an empty dictionary frequency to store the word counts.\n",
        "\n",
        "The code iterates through the list of words, using frequency.get(word, 0) to retrieve the current count of a word (defaulting to 0 if not found) and incrementing it by 1.\n",
        "\n",
        "Finally, the function returns the frequency dictionary containing the word frequencies."
      ],
      "metadata": {
        "id": "0RdlBRfeL9xs"
      }
    },
    {
      "cell_type": "markdown",
      "source": [
        "## 32). Write a code that takes two dictonaries as input and merge them into a single dictonary. If there are common keys, the calues should be added together."
      ],
      "metadata": {
        "id": "26EHB7OwL-kU"
      }
    },
    {
      "cell_type": "code",
      "source": [
        "from collections import defaultdict\n",
        "\n",
        "def merge_dictionaries(dict1, dict2):\n",
        "  merged_dict = defaultdict(int)\n",
        "  for key, value in dict1.items():\n",
        "    merged_dict[key] += value\n",
        "  for key, value in dict2.items():\n",
        "    merged_dict[key] += value\n",
        "  return dict(merged_dict)\n",
        "\n",
        "dict1 = {'a': 10, 'b': 20, 'c': 30}\n",
        "dict2 = {'b': 30, 'c': 40, 'd': 50}\n",
        "merged_dict = merge_dictionaries(dict1, dict2)\n",
        "print(merged_dict)"
      ],
      "metadata": {
        "id": "xplc4fnsMgI0"
      },
      "execution_count": null,
      "outputs": []
    },
    {
      "cell_type": "markdown",
      "source": [
        "This code defines a function named merge_dictionaries that takes two dictionaries as input and utilizes defaultdict(int) to handle common keys by adding their values. It iterates through the items of both dictionaries, accumulating values for shared keys and storing all key-value pairs in the merged_dict. Finally, it converts the defaultdict back to a regular dictionary and returns the merged result. This approach efficiently combines dictionaries, summing values for common keys."
      ],
      "metadata": {
        "id": "kBr4qPLAMj8s"
      }
    },
    {
      "cell_type": "markdown",
      "source": [
        "## 33). Write a code to access a value in a nested dictionary . The function should take the dictionary  and a list of keys as inlput, and return the corresponding value. If aniy of the keys do not exist in the dictonary , the functionn should return None."
      ],
      "metadata": {
        "id": "1t3s7r-SMl2F"
      }
    },
    {
      "cell_type": "code",
      "source": [
        "ef get_nested_value(nested_dict, keys):\n",
        "  current_level = nested_dict\n",
        "  for key in keys:\n",
        "    if isinstance(current_level, dict) and key in current_level:\n",
        "      current_level = current_level[key]\n",
        "    else:\n",
        "      return None\n",
        "  return current_level\n",
        "\n",
        "nested_dict = {'a': {'b': {'c': 10}}}\n",
        "keys = ['a', 'b', 'c']\n",
        "value = get_nested_value(nested_dict, keys)\n",
        "print(value)\n"
      ],
      "metadata": {
        "id": "lAaFjbqdNtLX"
      },
      "execution_count": null,
      "outputs": []
    },
    {
      "cell_type": "markdown",
      "source": [
        "This code defines a function get_nested_value that takes a nested dictionary and a list of keys as input.\n",
        "\n",
        "It iterates through the keys, checking if each key exists in the current level of the dictionary.\n",
        "\n",
        "If any key is not found or the current level is not a dictionary, it returns None."
      ],
      "metadata": {
        "id": "jtHBEhA_Ny1e"
      }
    },
    {
      "cell_type": "markdown",
      "source": [
        "## 34). Write a code that takes a dicdtonary as input and return a sorted version of it vased on the values . You can choose whether to sort in ascending of descending order."
      ],
      "metadata": {
        "id": "B4JI0w-mNztV"
      }
    },
    {
      "cell_type": "code",
      "source": [
        "def sort_dictionary_by_value(input_dict):\n",
        "  return dict(sorted(input_dict.items(), key=lambda item: item[1]))\n",
        "\n",
        "my_dict = {'apple': 3, 'banana': 1, 'cherry': 2}\n",
        "sorted_dict = sort_dictionary_by_value(my_dict)\n",
        "print(sorted_dict)"
      ],
      "metadata": {
        "id": "DKDhVEodOVg-"
      },
      "execution_count": null,
      "outputs": []
    },
    {
      "cell_type": "markdown",
      "source": [
        "This code defines a function sort_dictionary_by_value that takes a dictionary as input.\n",
        "\n",
        "It uses sorted(input_dict.items(), key=lambda item: item[1]) to create a sorted list of key-value pairs based on the values (item[1]).\n",
        "\n",
        "The sorted list is then converted back into a dictionary using dict().\n",
        "\n",
        "This results in a new dictionary where the items are sorted in ascending order based on their values. This approach offers a concise way to sort dictionaries by value, enhancing data organization."
      ],
      "metadata": {
        "id": "09Ibyvt8OX-Q"
      }
    },
    {
      "cell_type": "markdown",
      "source": [
        "## 35). Write a code that inverts a dictonary , swapping keys and valuesl. Ensure that the inverted dictionary correctly handles cases where multiple keysz have the same values by storing the keys as a list in the inverted doctionary."
      ],
      "metadata": {
        "id": "DBHlH1DSOZV4"
      }
    },
    {
      "cell_type": "code",
      "source": [
        "from collections import defaultdict\n",
        "\n",
        "def invert_dictionary(input_dict):\n",
        "  inverted_dict = defaultdict(list)\n",
        "  for key, value in input_dict.items():\n",
        "    inverted_dict[value].append(key)\n",
        "  return dict(inverted_dict)\n",
        "\n",
        "my_dict = {'a': 1, 'b': 2, 'c': 1}\n",
        "inverted_dict = invert_dictionary(my_dict)\n",
        "print(inverted_dict)"
      ],
      "metadata": {
        "id": "4qEgErHgPNxT"
      },
      "execution_count": null,
      "outputs": []
    },
    {
      "cell_type": "markdown",
      "source": [
        "This code defines a function invert_dictionary that takes a dictionary as input.\n",
        "\n",
        "It uses defaultdict(list) to create a dictionary where values default to lists.\n",
        "\n",
        "The code iterates through the original dictionary's key-value pairs, appending each key to the list associated with its value in the inverted_dict.\n",
        "\n",
        "This handles cases where multiple keys have the same value by storing those keys together in a list.\n",
        "\n",
        "Finally, the defaultdict is converted back to a regular dictionary and returned.\n",
        "\n",
        "This approach effectively inverts dictionaries while correctly managing duplicate values."
      ],
      "metadata": {
        "id": "flUJFo9EPQW0"
      }
    }
  ]
}
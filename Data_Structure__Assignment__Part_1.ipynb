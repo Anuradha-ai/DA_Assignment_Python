{
  "nbformat": 4,
  "nbformat_minor": 0,
  "metadata": {
    "colab": {
      "provenance": [],
      "authorship_tag": "ABX9TyO4RmBGGAwiFo9crIOBMygt",
      "include_colab_link": true
    },
    "kernelspec": {
      "name": "python3",
      "display_name": "Python 3"
    },
    "language_info": {
      "name": "python"
    }
  },
  "cells": [
    {
      "cell_type": "markdown",
      "metadata": {
        "id": "view-in-github",
        "colab_type": "text"
      },
      "source": [
        "<a href=\"https://colab.research.google.com/github/Anuradha-ai/DA_Assignment_Python/blob/main/Data_Structure__Assignment__Part_1.ipynb\" target=\"_parent\"><img src=\"https://colab.research.google.com/assets/colab-badge.svg\" alt=\"Open In Colab\"/></a>"
      ]
    },
    {
      "cell_type": "markdown",
      "source": [
        "# Data Structure Assignment Part-1"
      ],
      "metadata": {
        "id": "mCLk8Jlb3lim"
      }
    },
    {
      "cell_type": "markdown",
      "source": [
        "### 1).What are data structures, and why are they important?"
      ],
      "metadata": {
        "id": "465rCuFT31VZ"
      }
    },
    {
      "cell_type": "markdown",
      "source": [
        "Data structures are specialized ways of organizing and storing data in a computer so that it can be used efficiently. They define how data is related and how it can be accessed and manipulated.\n",
        "\n",
        "Here's why they are important:\n",
        "\n",
        "* Efficiency: Data structures provide efficient ways to store and retrieve data, which is crucial for the performance of any program.\n",
        "For example, searching for an item in a sorted array is much faster than searching in an unsorted list.\n",
        "* Organization: They bring order and structure to data, making it easier to manage and understand. This organization is key for complex programs that deal with large amounts of data.\n",
        "* Abstraction: Data structures allow programmers to work with data at a higher level of abstraction. Instead of dealing with individual memory locations, they can work with collections of data as a single entity.\n"
      ],
      "metadata": {
        "id": "LbxxIbRN3_tI"
      }
    },
    {
      "cell_type": "markdown",
      "source": [
        "### 2). Explain the difference between mutable and immutable data types with examples"
      ],
      "metadata": {
        "id": "ctNrB3qU48Aj"
      }
    },
    {
      "cell_type": "markdown",
      "source": [
        "Mutable Data Types:\n",
        "\n",
        "- Definition: Mutable data types are those whose values can be changed after they are created. This means you can modify the internal state of the object without creating a new object.\n",
        "\n",
        "Examples in Python:\n",
        "\n",
        "- Lists: You can add, remove, or modify elements within a list."
      ],
      "metadata": {
        "id": "gZY9WPRm5dJW"
      }
    },
    {
      "source": [
        "my_list = [1, 2, 3]\n",
        "my_list[0] = 4  # Modifying the first element\n",
        "my_list.append(5)  # Adding an element\n",
        "print(my_list)  # Output: [4, 2, 3, 5]"
      ],
      "cell_type": "code",
      "metadata": {
        "id": "dRW7Um7WPC9n"
      },
      "execution_count": null,
      "outputs": []
    },
    {
      "cell_type": "markdown",
      "source": [
        "Immutable data types\n",
        "\n",
        "- Immutable data types are those whose values cannot be changed after they are created. Any operation that appears to modify an immutable object actually creates a new object with the modified value.\n",
        "\n",
        "- Here are some common immutable data types in Python with examples:"
      ],
      "metadata": {
        "id": "muHWe6KPPu9v"
      }
    },
    {
      "cell_type": "code",
      "source": [],
      "metadata": {
        "id": "uoyaPpJhP7gA"
      },
      "execution_count": null,
      "outputs": []
    },
    {
      "source": [
        "# Example 1. Numbers (int,float,complex)\n",
        "x = 5\n",
        "y = x + 2  # y is assigned a new value, x remains unchanged\n",
        "print(x)  # Output: 5\n",
        "print(y)  # Output: 7"
      ],
      "cell_type": "code",
      "metadata": {
        "id": "nqAvBSP2P8Hu"
      },
      "execution_count": null,
      "outputs": []
    },
    {
      "cell_type": "code",
      "source": [],
      "metadata": {
        "id": "FpFastfDRQMm"
      },
      "execution_count": null,
      "outputs": []
    },
    {
      "source": [
        "# Example 2. Strings (str)\n",
        "\n",
        "text = \"Hello\"\n",
        "new_text = text + \" World\"  # new_text is a new string\n",
        "print(text)  # Output: Hello\n",
        "print(new_text)  # Output: Hello World"
      ],
      "cell_type": "code",
      "metadata": {
        "id": "56HQp0JrRQso"
      },
      "execution_count": null,
      "outputs": []
    },
    {
      "cell_type": "code",
      "source": [],
      "metadata": {
        "id": "EHKCLz7bRcJQ"
      },
      "execution_count": null,
      "outputs": []
    },
    {
      "source": [
        "# Example 3. Tuples\n",
        "\n",
        "my_tuple = (1, 2, 3)\n",
        "# my_tuple[0] = 4  # This would raise a TypeError as tuples are immutable"
      ],
      "cell_type": "code",
      "metadata": {
        "id": "HsBvNrwHRcuO"
      },
      "execution_count": null,
      "outputs": []
    },
    {
      "cell_type": "markdown",
      "source": [
        "## 3). What are the main differences between lists and tuples in Python?\n",
        "\n",
        "\n",
        "Here's a breakdown of the main differences between lists and tuples in Python\n",
        "\n",
        "Mutability:\n",
        "\n",
        "- Lists are mutable: This means you can change their contents (add, remove, or modify elements) after they are created.\n",
        "Tuples are immutable: Once a tuple is created, its elements cannot be changed.\n",
        "Syntax:\n",
        "\n",
        "Lists are defined using square brackets []: my_list = [1, 2, 3]\n",
        "Tuples are defined using parentheses (): my_tuple = (1, 2, 3)\n",
        "Operations:\n",
        "\n",
        "- Lists have more built-in methods: like append, insert, remove, etc., for modifying their contents.\n",
        "Tuples have fewer methods: as they are immutable. They primarily provide methods for accessing elements and basic operations like counting or indexing.\n",
        "Use Cases:\n",
        "\n",
        "Lists are suitable when you need a collection that can be modified: like storing a dynamic set of items.\n",
        "Tuples are useful for representing fixed collections of data: where immutability is desired, such as coordinates or database records.\n",
        "Performance:\n",
        "\n",
        "- Tuples are generally more memory-efficient and faster than lists because of their immutability. They require less overhead for memory management since their size and contents are fixed."
      ],
      "metadata": {
        "id": "NgHuSzfYTGX_"
      }
    },
    {
      "cell_type": "markdown",
      "source": [
        "## 4).Describe how dictionaries store data?\n",
        "\n",
        "- Dictionaries in Python store data as key-value pairs. This means that for each piece of data stored, there's a unique key associated with it, and the data itself is the value.\n",
        "\n",
        "- Think of it like a real-world dictionary where you have words (keys) and their definitions (values). You use the word (key) to look up its definition (value).\n",
        "\n",
        "Here's a breakdown:\n",
        "\n",
        "- Keys:\n",
        "\n",
        " Keys must be immutable data types like strings, numbers, or tuples.\n",
        " They are unique within a dictionary; you can't have two identical keys.\n",
        " They are used to access the corresponding values.\n",
        "\n",
        "- Values:\n",
        "\n",
        " Values can be any data type, including mutable types like lists or even other dictionaries.\n",
        " They are the actual data being stored.\n",
        " Key-Value Pairs:\n",
        "\n",
        "Each key-value pair is separated by a colon (:).\n",
        "Pairs are enclosed in curly braces {}.\n",
        "\n",
        "\n",
        "\n",
        "\n",
        "\n"
      ],
      "metadata": {
        "id": "7feTeTrtWLPS"
      }
    },
    {
      "source": [
        "my_dict = {\"name\": \"Alice\", \"age\": 30, \"city\": \"New York\"}"
      ],
      "cell_type": "code",
      "metadata": {
        "id": "72wlCAwOmoSn"
      },
      "execution_count": null,
      "outputs": []
    },
    {
      "cell_type": "markdown",
      "source": [
        "In this example:\n",
        "\n",
        "\"name\", \"age\", and \"city\" are the keys.\n",
        "\"Alice\", 30, and \"New York\" are the values."
      ],
      "metadata": {
        "id": "hkqMSaetmqsO"
      }
    },
    {
      "cell_type": "markdown",
      "source": [
        "## 5). Why might you use a set instead of a list in Python?\n",
        "\n",
        "\n",
        "\n",
        "### Reasons to Use a Set Instead of a List:\n",
        "\n",
        "  1.Uniqueness: Sets only contain unique elements. If you need to ensure that your data has no duplicates, a set is the way to go. Lists can have repeating elements, and removing them can be inefficient.\n",
        "\n",
        " 2.Membership Testing: Checking if an element is present in a set is much faster than in a list. Sets use a hash table for storage, which allows for constant-time lookups. In contrast, searching a list requires iterating through it, which can be slow for large lists.\n",
        "\n",
        " 3.Mathematical Operations: Sets have built-in support for mathematical set operations like union, intersection, and difference, which can be very handy. Lists don't have these operations directly."
      ],
      "metadata": {
        "id": "Pop5SrXyndrH"
      }
    },
    {
      "cell_type": "markdown",
      "source": [
        "##6). What is a string in Python, and how is it different from a list?\n",
        "\n",
        "String\n",
        "\n",
        "- A string is a sequence of characters, like letters, numbers, and symbols, enclosed in single quotes ('...') or double quotes (\"...\").\n",
        "- Strings are used to represent text in Python.\n",
        "- Strings are immutable, which means you cannot change their contents once they are created. If you try to modify a string, a new string object is created with the modification.\n",
        "\n",
        "List\n",
        "\n",
        "- A list is an ordered collection of items. These items can be of any data type, including numbers, strings, other lists, and so on.\n",
        "- Lists are defined using square brackets [] with items separated by commas.\n",
        "- Lists are mutable, which means you can change their contents (add, remove, or modify elements) after they are created.\n",
        "\n",
        "\n"
      ],
      "metadata": {
        "id": "hovZPI08osOu"
      }
    },
    {
      "cell_type": "markdown",
      "source": [
        "##7).How do tuples ensure data integrity in Python?\n",
        "\n",
        "\n",
        "Immutability:\n",
        "\n",
        "- Core Principle: The primary way tuples ensure data integrity is through their immutability. This means that once a tuple is created, its elements cannot be changed or modified.\n",
        "- Protection Against Accidental Changes: This immutability acts as a safeguard against accidental or unintended alterations to the data stored within the tuple.\n",
        "\n",
        "Use Cases for Data Integrity:\n",
        "\n",
        "- Data that should remain constant: Configurations, database records, or any data that should not change during the execution of the program benefit from being stored in tuples.\n",
        "\n",
        "- Function Arguments and Return Values: Tuples are often used to pass data between functions without the risk of it being modified unexpectedly. Immutability guarantees that the data rem\n",
        "\n",
        "### Example"
      ],
      "metadata": {
        "id": "SDsKCpaRqfxG"
      }
    },
    {
      "source": [
        "# Define coordinates as a tuple\n",
        "coordinates = (10, 20)\n",
        "\n",
        "# Attempting to modify the tuple\n",
        "# coordinates[0] = 15  # This will raise a TypeError"
      ],
      "cell_type": "code",
      "metadata": {
        "id": "l-VdZlczq8F2"
      },
      "execution_count": null,
      "outputs": []
    },
    {
      "cell_type": "markdown",
      "source": [
        "## 8).What is a hash table, and how does it relate to dictionaries in Python?\n",
        "\n",
        "### Hash Table\n",
        "\n",
        "- A hash table is a data structure that stores data in key-value pairs, where each key is unique and the hash function computes its position in the table. It offers efficient average-case performance for insertion, deletion, and search operations, typically O(1) time complexity. However, in the worst-case scenario, these operations can take O(n) time due to hash collisions.\n",
        "\n",
        "### Relationship to Dictionaries in Python\n",
        "\n",
        "- Dictionaries in Python are implemented using hash tables. This means that when you create a dictionary in Python, you're essentially creating a hash table behind the scenes. This implementation allows for efficient key-based data retrieval in dictionaries. When you access a value using its key, Python uses the hash function to quickly locate the corresponding entry in the hash table."
      ],
      "metadata": {
        "id": "ElRDkowbrhrl"
      }
    },
    {
      "cell_type": "markdown",
      "source": [
        "##9).Can lists contain different data types in Python?\n",
        "\n",
        "Yes, lists in Python can contain different data types.\n",
        "\n",
        "### Reasoning:\n",
        "\n",
        "Lists in Python are designed to be heterogeneous, meaning they can store a variety of data types within the same list. This flexibility is one of the strengths of Python's dynamic typing system.\n",
        "\n",
        "### Example:"
      ],
      "metadata": {
        "id": "rBqYh0chsVdV"
      }
    },
    {
      "source": [
        "my_list = [1, \"hello\", 3.14, True]"
      ],
      "cell_type": "code",
      "metadata": {
        "id": "AIfM8z-CsujW"
      },
      "execution_count": null,
      "outputs": []
    },
    {
      "cell_type": "markdown",
      "source": [
        "##10). Explain why strings are immutable in Python?\n",
        "\n",
        "### Reasons for Immutability:\n",
        "\n",
        "- Security: Immutability makes strings inherently safer, especially when used as keys in dictionaries or elements in sets. Since keys cannot be changed, it ensures the integrity of data structures.\n",
        "\n",
        "- Memory Efficiency: Python can optimize string storage by sharing the same memory location for identical strings. This is possible because strings are immutable, so Python knows they won't be changed.\n",
        "\n",
        "- Hashing: Strings are often used as keys in dictionaries, and hashing is crucial for efficient dictionary operations. Immutable strings guarantee consistent hash values, ensuring that dictionary lookups remain reliable."
      ],
      "metadata": {
        "id": "R2Uh4_uOs2TN"
      }
    },
    {
      "cell_type": "markdown",
      "source": [
        "##11).What advantages do dictionaries offer over lists for certain tasks?\n",
        "\n",
        " Here are the advantages of dictionaries over lists for certain tasks in Python:\n",
        "\n",
        "### Advantages of Dictionaries over Lists:\n",
        "\n",
        "- Efficient Lookups: Dictionaries are implemented using hash tables, allowing for very fast lookups of values based on their keys. This is much more efficient than searching through a list, especially for large datasets.\n",
        "- Key-Value Association: Dictionaries naturally represent relationships between data using key-value pairs. This makes them ideal for storing data that has inherent associations, like student names and their grades, or product IDs and their prices.\n",
        "\n",
        "### Scenarios where dictionaries excel:\n",
        "\n",
        "Storing and retrieving configurations: Settings or parameters can be easily stored and accessed using keys.\n",
        "Representing real-world objects: A dictionary can be used to create a model of an object, where keys represent attributes and values represent their respective values."
      ],
      "metadata": {
        "id": "BNRQMqK-tw7V"
      }
    },
    {
      "source": [
        "# Using a list\n",
        "student_list = [\"Alice\", 30, \"New York\"]\n",
        "name = student_list[0]  # Accessing name using index\n",
        "\n",
        "# Using a dictionary\n",
        "student_dict = {\"name\": \"Alice\", \"age\": 30, \"city\": \"New York\"}\n",
        "name = student_dict[\"name\"]  # Accessing name using key"
      ],
      "cell_type": "code",
      "metadata": {
        "id": "k6vZxrhvvGuE"
      },
      "execution_count": null,
      "outputs": []
    },
    {
      "cell_type": "markdown",
      "source": [
        "## 12).Describe a scenario where using a tuple would be preferable over a list?\n",
        "\n",
        "\n",
        "Here's a scenario where using a tuple would be preferable over a list in Python, along with reasoning:\n",
        "\n",
        "###Scenario:\n",
        "- Imagine you're creating a program to represent the coordinates of a point in 2D space. These coordinates (x, y) should remain fixed once they are set."
      ],
      "metadata": {
        "id": "7-_MmqP_cc0o"
      }
    },
    {
      "cell_type": "markdown",
      "source": [
        "## 13).How do sets handle duplicate values in Python?\n",
        "\n",
        "###Sets and Duplicates:\n",
        "\n",
        "Sets in Python are designed to store unique elements. This means that if you try to add a duplicate value to a set, it will simply be ignored. The set will only retain one instance of each unique element."
      ],
      "metadata": {
        "id": "-yW3U0OFdacA"
      }
    },
    {
      "cell_type": "markdown",
      "source": [
        "## 14).How does the “in” keyword work differently for lists and dictionaries?\n",
        "\n",
        "in keyword works differently for lists and dictionaries in Python.\n",
        "\n",
        "Lists:\n",
        "\n",
        "When used with lists, the in keyword checks for membership, meaning it determines whether a specific element is present in the list. It iterates through each element of the list and compares it with the target value. If a match is found, it returns True; otherwise, it returns False."
      ],
      "metadata": {
        "id": "gb3-hI6dd97b"
      }
    },
    {
      "source": [
        "my_list = [1, 2, 3, 4, 5]\n",
        "\n",
        "print(3 in my_list)  # Output: True\n",
        "print(6 in my_list)  # Output: False"
      ],
      "cell_type": "code",
      "metadata": {
        "id": "ogvDb2WdeUf3"
      },
      "execution_count": null,
      "outputs": []
    },
    {
      "cell_type": "markdown",
      "source": [
        "## 15).Can you modify the elements of a tuple? Explain why or why not?\n",
        "\n",
        "let's discuss whether you can modify the elements of a tuple in Python.\n",
        "\n",
        "### Mutability of Tuples:\n",
        "\n",
        "No, you cannot modify the elements of a tuple in Python. This is because tuples are immutable data structures.\n",
        "\n",
        "### Reasoning:\n",
        "\n",
        "Immutability means that once a tuple is created, its elements cannot be changed or modified. This is a fundamental characteristic of tuples and is by design.\n",
        "\n",
        "### Why Tuples Are Immutable:\n",
        "\n",
        "There are several reasons why tuples are designed to be immutable:\n",
        "\n",
        "1.**Data Integrity**: Immutability ensures that the data stored in a tuple remains consistent and protected from accidental changes. This is crucial in scenarios where data integrity is paramount, such as representing coordinates, database records, or configurations.\n",
        "2.**Hashing**: Tuples are often used as keys in dictionaries, and hashing is essential for efficient dictionary operations. Immutable tuples guarantee consistent hash values, ensuring that dictionary lookups remain reliable."
      ],
      "metadata": {
        "id": "sWyQIK3eeYof"
      }
    },
    {
      "source": [
        "my_tuple = (1, 2, 3)\n",
        "# my_tuple[0] = 4  # This will raise a TypeError"
      ],
      "cell_type": "code",
      "metadata": {
        "id": "LZnWFl6dgG0Y"
      },
      "execution_count": null,
      "outputs": []
    },
    {
      "cell_type": "markdown",
      "source": [
        "## 16).What is a nested dictionary, and give an example of its use case?\n",
        "\n",
        "### What is a Nested Dictionary **:-**\n",
        "\n",
        "A nested dictionary is simply a dictionary where the values are themselves dictionaries. This creates a hierarchical structure, allowing you to organize data in a more complex and structured way."
      ],
      "metadata": {
        "id": "uS_8DeOhhsa_"
      }
    },
    {
      "source": [
        "employee_data = {\n",
        "    \"John Doe\": {\n",
        "        \"age\": 30,\n",
        "        \"department\": \"Sales\",\n",
        "        \"salary\": 60000\n",
        "    },\n",
        "    \"Jane Smith\": {\n",
        "        \"age\": 25,\n",
        "        \"department\": \"Marketing\",\n",
        "        \"salary\": 55000\n",
        "    }\n",
        "}"
      ],
      "cell_type": "code",
      "metadata": {
        "id": "eikO0LZfiBye"
      },
      "execution_count": null,
      "outputs": []
    },
    {
      "cell_type": "markdown",
      "source": [
        "## 17).Describe the time complexity of accessing elements in a dictionary?\n",
        "\n",
        "Time Complexity\n",
        "\n",
        "- Average Case: The average time complexity of accessing an element in a dictionary using its key is O(1), also known as constant time. This means that the time it takes to access an element is independent of the size of the dictionary.\n",
        "\n",
        "- Worst Case: In the worst-case scenario, where there are many collisions in the hash table (the underlying data structure of a dictionary), the time complexity can become O(n), where 'n' is the number of elements in the dictionary. This happens when all keys hash to the same index, resulting in a linear search through the elements."
      ],
      "metadata": {
        "id": "RbEzhG4AiVO2"
      }
    },
    {
      "cell_type": "markdown",
      "source": [
        "## 18).In what situations are lists preferred over dictionaries?\n",
        "\n",
        "Situations where lists might be preferred over dictionaries in Python.\n",
        "\n",
        "**Situations where Lists are Preferred**\n",
        "\n",
        "1.**When Order Matters:** Lists maintain the order of elements as they are inserted. If the order of your data is important for your task, then lists are the better choice. Dictionaries, on the other hand, do not guarantee any specific order of elements.\n",
        "\n",
        "**2.When You Need to Access Elements by Index:** Lists allow you to access elements using their numerical index. This can be useful when you need to process elements sequentially or access elements at specific positions. Dictionaries, in contrast, are accessed using keys.\n",
        "\n",
        "**3.When You Need to Store Duplicate Values:** Lists can store duplicate values, while dictionaries only allow unique keys. If your data might contain duplicates, then lists are the appropriate choice.\n",
        "\n",
        "**4.When You Need to Perform Operations Based on Position:** Lists provide methods like insert, pop, and slicing that operate based on the position of elements. These operations might not be as straightforward or efficient with dictionaries."
      ],
      "metadata": {
        "id": "QfHSOiK2jkwm"
      }
    },
    {
      "cell_type": "markdown",
      "source": [
        "## 19).Why are dictionaries considered unordered, and how does that affect data retrieval?\n",
        "\n",
        "### Unordered Nature of Dictionaries\n",
        "- **Hash Table Implementation:** Dictionaries in Python are implemented using hash tables. Hash tables are designed for efficient key-based lookups, but they do not inherently maintain the order in which elements are added.\n",
        "- **Focus on Key-Value Mapping:** The primary purpose of a dictionary is to provide a fast way to access values using their corresponding keys. The order of insertion is not a priority for this type of data structure.\n",
        "- Impact on Data Retrieval\n",
        "No Guaranteed Order: Since dictionaries are unordered, you cannot rely on the order in which elements were added when you iterate over them or access their values. The order might appear consistent in some cases, but this is not guaranteed and can change depending on the implementation or the data itself.\n",
        "\n",
        "\n"
      ],
      "metadata": {
        "id": "hK6zjJxil0FV"
      }
    },
    {
      "source": [
        "my_dict = {'apple': 1, 'banana': 2, 'orange': 3}\n",
        "\n",
        "# Iterating over the dictionary\n",
        "for key, value in my_dict.items():\n",
        "    print(key, value)"
      ],
      "cell_type": "code",
      "metadata": {
        "id": "YaRvzci1n9t_"
      },
      "execution_count": null,
      "outputs": []
    },
    {
      "cell_type": "markdown",
      "source": [
        "## 20).Explain the difference between a list and a dictionary in terms of data retrieval.\n",
        "\n",
        "###Lists:\n",
        "- **Data Retrieval:** Lists use indexing for data retrieval. This means you access elements by their position in the list using numerical indices (starting from 0).\n",
        "\n",
        "Example:\n"
      ],
      "metadata": {
        "id": "IuZNqeyGyqwy"
      }
    },
    {
      "source": [
        "my_list = [\"apple\", \"banana\", \"orange\"]\n",
        "# Accessing the second element (index 1)\n",
        "second_element = my_list[1]  # second_element will be \"banana\""
      ],
      "cell_type": "code",
      "metadata": {
        "id": "CoM_LboozAOh"
      },
      "execution_count": null,
      "outputs": []
    },
    {
      "cell_type": "markdown",
      "source": [
        "**Time Complexity:** Accessing elements in a list by index has a time complexity of O(1), meaning it takes a constant amount of time regardless of the list size.\n",
        "Dictionaries:\n",
        "Data Retrieval: Dictionaries use keys for data retrieval. You access elements by providing their unique key, which can be any immutable data type (like strings, numbers, or tuples).\n",
        "\n",
        "Example:\n",
        "\n"
      ],
      "metadata": {
        "id": "osBaKmx-zOQq"
      }
    },
    {
      "source": [
        "my_dict = {\"name\": \"Alice\", \"age\": 30, \"city\": \"New York\"}\n",
        "# Accessing the value associated with the key \"name\"\n",
        "name = my_dict[\"name\"]  # name will be \"Alice\""
      ],
      "cell_type": "code",
      "metadata": {
        "id": "1k_h1kCozPXA"
      },
      "execution_count": null,
      "outputs": []
    },
    {
      "cell_type": "markdown",
      "source": [
        "Time Complexity: Accessing elements in a dictionary by key also has an average time complexity of O(1)."
      ],
      "metadata": {
        "id": "69g7fimmzTYS"
      }
    }
  ]
}